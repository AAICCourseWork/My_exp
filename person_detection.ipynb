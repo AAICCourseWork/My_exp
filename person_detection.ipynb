{
  "nbformat": 4,
  "nbformat_minor": 0,
  "metadata": {
    "colab": {
      "name": "person detection.ipynb",
      "provenance": [],
      "collapsed_sections": [],
      "toc_visible": true
    },
    "kernelspec": {
      "name": "python3",
      "display_name": "Python 3"
    }
  },
  "cells": [
    {
      "cell_type": "code",
      "metadata": {
        "id": "rMN81brAovur",
        "colab_type": "code",
        "colab": {}
      },
      "source": [
        "from google.colab import drive\n",
        "drive.mount('/content/drive')"
      ],
      "execution_count": 0,
      "outputs": []
    },
    {
      "cell_type": "code",
      "metadata": {
        "id": "d-tvFxa_q7cR",
        "colab_type": "code",
        "colab": {}
      },
      "source": [
        "pip install imageai --upgrade"
      ],
      "execution_count": 0,
      "outputs": []
    },
    {
      "cell_type": "code",
      "metadata": {
        "id": "QDsAMRjto3-H",
        "colab_type": "code",
        "outputId": "0ccf11d9-bea6-4892-9367-bcfecd2f89e8",
        "colab": {
          "base_uri": "https://localhost:8080/",
          "height": 79
        }
      },
      "source": [
        "import cv2 \n",
        "from matplotlib.patches import Rectangle\n",
        "import matplotlib.pyplot as plt\n",
        "from matplotlib import pyplot\n",
        "from PIL import Image\n",
        "from tqdm import tqdm\n",
        "from imageai.Detection import ObjectDetection\n",
        "import os"
      ],
      "execution_count": 0,
      "outputs": [
        {
          "output_type": "stream",
          "text": [
            "Using TensorFlow backend.\n"
          ],
          "name": "stderr"
        },
        {
          "output_type": "display_data",
          "data": {
            "text/html": [
              "<p style=\"color: red;\">\n",
              "The default version of TensorFlow in Colab will soon switch to TensorFlow 2.x.<br>\n",
              "We recommend you <a href=\"https://www.tensorflow.org/guide/migrate\" target=\"_blank\">upgrade</a> now \n",
              "or ensure your notebook will continue to use TensorFlow 1.x via the <code>%tensorflow_version 1.x</code> magic:\n",
              "<a href=\"https://colab.research.google.com/notebooks/tensorflow_version.ipynb\" target=\"_blank\">more info</a>.</p>\n"
            ],
            "text/plain": [
              "<IPython.core.display.HTML object>"
            ]
          },
          "metadata": {
            "tags": []
          }
        }
      ]
    },
    {
      "cell_type": "code",
      "metadata": {
        "id": "AjVF1LvTq23Y",
        "colab_type": "code",
        "colab": {}
      },
      "source": [
        "execution_path = os.getcwd()\n",
        "\n",
        "detector_object = ObjectDetection()\n",
        "detector_object.setModelTypeAsYOLOv3()\n",
        "detector_object.setModelPath( os.path.join(execution_path , \"/content/drive/My Drive/Colab Notebooks/yolo.h5\"))\n",
        "detector_object.loadModel(detection_speed = 'fast') \n",
        "custom = detector_object.CustomObjects(person=True)\n",
        "\n",
        "def object_detector(filename):\n",
        "  detections = detector_object.detectCustomObjectsFromImage( custom_objects=custom, \n",
        "                                                   input_image=os.path.join(execution_path , filename), \n",
        "                                                   output_image_path=os.path.join(execution_path , \"image3new-custom.jpg\"),\n",
        "                                                   minimum_percentage_probability=50\n",
        "                                                   )\n",
        "  return detections\n"
      ],
      "execution_count": 0,
      "outputs": []
    },
    {
      "cell_type": "code",
      "metadata": {
        "id": "GK1wpYD8pY5-",
        "colab_type": "code",
        "colab": {}
      },
      "source": [
        "fourcc = cv2.VideoWriter_fourcc(*'XVID')\n",
        "out = cv2.VideoWriter('/content/drive/My Drive/Untitled folder/vid1_30sec_detected.mp4', fourcc, 25.0, (640,480))\n",
        "# image = cv2.rectangle(image, start_point, end_point, color, thickness)\n",
        "vidcap = cv2.VideoCapture('/content/drive/My Drive/Untitled folder/vid1_30sec.mp4')\n",
        "\n",
        "vidcap.set(cv2.CAP_PROP_POS_MSEC,sec*1000)\n",
        "vidcap.set(cv2.CAP_PROP_FRAME_WIDTH, 640)\n",
        "vidcap.set(cv2.CAP_PROP_FRAME_HEIGHT, 480)\n",
        "count = 0\n",
        "while True:\n",
        "    hasFrames,image = vidcap.read()\n",
        "    if hasFrames:\n",
        "    #cv2.imwrite(\"/content/drive/My Drive/Untitled folder/Video to images/image\"+str(count)+\".jpg\", image)     # save frame as JPG file\n",
        "        file_path = '/content/drive/My Drive/Untitled folder/Untitled Folder/image.jpg'\n",
        "        #print(file_path)\n",
        "        _ = cv2.imwrite(file_path, image)\n",
        "        result_list = object_detector(file_path)\n",
        "        count1 = 0\n",
        "        count2 = 0\n",
        "        for result in result_list:\n",
        "            x1,y1,x2,y2 = result['box_points']\n",
        "\n",
        "            if (x1 > 150 and x1 < 300):\n",
        "                if (y1>200):\n",
        "                    image = cv2.rectangle(image, (x1,y1), (x2,y2), (255, 0, 0), 1)\n",
        "\n",
        "                    if (x1<230):\n",
        "                        count1 += 1\n",
        "                    else:\n",
        "                        count2 += 1\n",
        "                    color = (255, 0, 0)\n",
        "\n",
        "                    image = cv2.putText(image, \"count left=\"+str(count1), (100,100), cv2.FONT_HERSHEY_SIMPLEX , 1, color, 1)\n",
        "                    image = cv2.putText(image, \"count left=\"+str(count1), (450,100), cv2.FONT_HERSHEY_SIMPLEX , 1, color, 1) \n",
        "        print(count)\n",
        "        count += 1\n",
        "\n",
        "\n",
        "\n",
        "\n",
        "    out.write(image)\n",
        "\n",
        "out.release()"
      ],
      "execution_count": 0,
      "outputs": []
    }
  ]
}